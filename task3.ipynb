{
 "cells": [
  {
   "cell_type": "code",
   "execution_count": null,
   "metadata": {},
   "outputs": [],
   "source": [
    "starter=input('please input your favourite starter!')\n",
    "\n",
    "main_course=input('What about your main course?')\n",
    "\n",
    "dessert=input('And dessert?')\n",
    "\n",
    "drink=input('how about a drink?')\n",
    "\n",
    "print(\"Your favourite meal is\", starter , \"as a starter, a\", main_course , \"as a main and\", dessert , \"as your dessert with a drink of\", drink)\n"
   ]
  }
 ],
 "metadata": {
  "language_info": {
   "name": "python"
  },
  "orig_nbformat": 4
 },
 "nbformat": 4,
 "nbformat_minor": 2
}
