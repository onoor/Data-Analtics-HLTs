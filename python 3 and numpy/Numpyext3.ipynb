{
 "cells": [
  {
   "cell_type": "code",
   "execution_count": null,
   "metadata": {},
   "outputs": [],
   "source": [
    "import numpy as np\n",
    "\n",
    "a = np.array([1,2,3,4,5])\n",
    "b = np.array([4,5,6,7,8,9])\n",
    "\n",
    "\n",
    "\n",
    "x = np.where((a >= 3) & (a <= 7))\n",
    "y = np.where((b >= 3) & (b <= 7))\n",
    "\n",
    "print(a[x],b[y])\n",
    "\n",
    "#sum = a + b\n",
    "#print(sum)"
   ]
  }
 ],
 "metadata": {
  "language_info": {
   "name": "python"
  },
  "orig_nbformat": 4
 },
 "nbformat": 4,
 "nbformat_minor": 2
}
