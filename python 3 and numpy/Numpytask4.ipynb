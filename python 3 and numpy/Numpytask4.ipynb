{
 "cells": [
  {
   "cell_type": "code",
   "execution_count": null,
   "metadata": {},
   "outputs": [],
   "source": [
    "#Task 4 Replace all odd numbers in arr with -1\n",
    "\n",
    "import numpy as np\n",
    "x = np.arange(10)\n",
    "x[x % 2 == 1] = -1\n",
    "print (x)"
   ]
  }
 ],
 "metadata": {
  "language_info": {
   "name": "python"
  },
  "orig_nbformat": 4
 },
 "nbformat": 4,
 "nbformat_minor": 2
}
