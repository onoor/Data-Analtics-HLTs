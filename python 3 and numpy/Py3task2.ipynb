{
 "cells": [
  {
   "cell_type": "code",
   "execution_count": null,
   "metadata": {},
   "outputs": [],
   "source": [
    "print(\"Enter the mark you got in the test: \")\n",
    "mark = float(input())\n",
    "\n",
    "mark_grade = mark/100 * 10\n",
    "\n",
    "if mark_grade>=7 and mark_grade<=10:\n",
    "    print(\"Your Grade is A\")\n",
    "elif mark_grade>=6 and mark_grade<7:\n",
    "    print(\"Your Grade is B\")\n",
    "elif mark_grade>=5 and mark_grade<6:\n",
    "    print(\"Your Grade is C\")\n",
    "elif mark_grade>=4 and mark_grade<5:\n",
    "    print(\"Your Grade is D\")\n",
    "elif mark_grade>=0 and mark_grade<4:\n",
    "    print(\"Your Grade is E! YOU ARE A FAILURE! A DISGRACE!\")\n",
    "else:\n",
    "    print(\"Invalid Input!\")\n",
    "    "
   ]
  }
 ],
 "metadata": {
  "language_info": {
   "name": "python"
  },
  "orig_nbformat": 4
 },
 "nbformat": 4,
 "nbformat_minor": 2
}
