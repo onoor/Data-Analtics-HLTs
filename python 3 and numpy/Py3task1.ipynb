{
 "cells": [
  {
   "cell_type": "code",
   "execution_count": null,
   "metadata": {},
   "outputs": [],
   "source": [
    "file = open(\"numbers.txt\", \"w\")\n",
    "\n",
    "file.write(\"4\\n\")\n",
    "file.write(\"45\\n\")\n",
    "file.write(\"83\\n\")\n",
    "file.write(\"21\\n\")\n",
    "\n",
    "file.close()\n",
    "\n",
    "#file = open(\"numbers.txt\", \"a\")\n",
    "#file.append(\"69\\n\")\n",
    "file.close()"
   ]
  }
 ],
 "metadata": {
  "language_info": {
   "name": "python"
  },
  "orig_nbformat": 4
 },
 "nbformat": 4,
 "nbformat_minor": 2
}
