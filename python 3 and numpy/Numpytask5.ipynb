#Task 5 

import numpy as np

x = np.arange(10)
y = x.reshape(2, -1) 

print(y)