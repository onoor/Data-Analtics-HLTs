{
 "cells": [
  {
   "cell_type": "code",
   "execution_count": null,
   "metadata": {},
   "outputs": [],
   "source": [
    "favNumber = int(input(\"Yow, what's yo favourite number between 1 and 100?\"))\n",
    "joke_on_12 = 12 \n",
    "joke_on_6 = 6 \n",
    "joke_on_98 = 98 \n",
    "\n",
    "if favNumber == joke_on_12:\n",
    " print('I tried 2 short of a dozen puns to impress her... No pun in ten did!!')\n",
    "elif favNumber == joke_on_6:\n",
    " print('I finally managed to genetically combine the number 6 with the letter S.My experiment was a complete six-s!.')\n",
    "elif favNumber == joke_on_98:\n",
    " print ('98% of all Jeeps ever made are still on the road today. The other 2% made it home.')\n",
    "else:\n",
    " print ('Your favourite number is so boring! Get a life, mate!!')\n"
   ]
  }
 ],
 "metadata": {
  "language_info": {
   "name": "python"
  },
  "orig_nbformat": 4
 },
 "nbformat": 4,
 "nbformat_minor": 2
}
