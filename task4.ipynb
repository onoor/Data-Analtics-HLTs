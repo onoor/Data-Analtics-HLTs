{
 "cells": [
  {
   "cell_type": "code",
   "execution_count": null,
   "metadata": {},
   "outputs": [],
   "source": [
    "n == 0\n",
    "Price = 2000 *((pow(0.9,n))\n",
    "\n",
    " while (Price > 1000):\n",
    "     \n",
    "    print(\"The bike is worth:\", Price)\n",
    "    n = n + 1"
   ]
  }
 ],
 "metadata": {
  "language_info": {
   "name": "python"
  },
  "orig_nbformat": 4
 },
 "nbformat": 4,
 "nbformat_minor": 2
}
