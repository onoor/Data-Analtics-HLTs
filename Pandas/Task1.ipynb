{
 "cells": [
  {
   "cell_type": "code",
   "execution_count": null,
   "metadata": {},
   "outputs": [],
   "source": [
    "#This is the CSV file saved as python file for tha pandas task\n",
    "Destination,feedback_score,all-inclusive hotels, star_rating,most_visited_city,\n",
    "Kenya,10,352,5,Mombasa, \n",
    "Tanzania,9,450,4,Daresalam,\n",
    "Gambia,6,125,3,Kibokoni,\n",
    "Netherlands,4,64,2,Amsterdam,\n",
    "France,7,791,3,Paris,\n",
    "Greece,8,456,4,Athens,\n",
    "Spain,7,289,3,Barcelona,\n",
    "United States,1,1345,1,NYC,\n",
    "Canada,5,1145,3,Ontario,\n",
    "Brazil,8,987,4,Rio,\n",
    "Jamaica,7,432,3,Kingston,\n",
    "Fiji,10,356,5,Chapati,\n",
    "Philippines,9,435,4,Pojo,\n",
    "Madagascar,10,321,5,Ngisi,\n",
    "Seychelles,10,348,4,Ukwaju,\n"
   ]
  }
 ],
 "metadata": {
  "language_info": {
   "name": "python"
  },
  "orig_nbformat": 4
 },
 "nbformat": 4,
 "nbformat_minor": 2
}
