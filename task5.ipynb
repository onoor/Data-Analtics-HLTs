{
 "cells": [
  {
   "cell_type": "code",
   "execution_count": null,
   "metadata": {},
   "outputs": [],
   "source": [
    "firstNumber = int(input('Yow, pick a number, please!'))\n",
    "secondNumber = int(input('Ok, pick another number'))\n",
    "\n",
    "operators = \"Now choose an operator for the 2 numbers:\\n\\\n",
    "1. Addition?\\n\\\n",
    "2. Subtraction?\\n\\\n",
    "3. Multiplication?\\n\\\n",
    "4. Division\\n\\\n",
    "5. Quit\\n\"\n",
    "\n",
    "sign = int(input(operators))\n",
    "\n",
    "SUM = firstNumber + secondNumber\n",
    "Minus = firstNumber - secondNumber\n",
    "Product = firstNumber * secondNumber\n",
    "Division = firstNumber / secondNumber\n",
    "\n",
    "if sign == 1 :\n",
    "    print('1stNumber + 2ndNumber is', SUM)\n",
    "elif sign == 2 :\n",
    "    print('1stNumber minus 2ndNumber is', Minus)\n",
    "elif sign == 3 :\n",
    "    print('1stNumber times 2ndNumber is', Product)\n",
    "elif sign == 4 :\n",
    "    print('1stNumber divided by 2ndNumber is', Division)"
   ]
  }
 ],
 "metadata": {
  "language_info": {
   "name": "python"
  },
  "orig_nbformat": 4
 },
 "nbformat": 4,
 "nbformat_minor": 2
}
