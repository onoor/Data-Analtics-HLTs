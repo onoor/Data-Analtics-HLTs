{
 "cells": [
  {
   "cell_type": "code",
   "execution_count": null,
   "metadata": {},
   "outputs": [],
   "source": [
    "#If the number is greater than zero, the program prints \"Greater than 0\". \n",
    "#If the number is less than zero, the program prints \"Less than 0\". \n",
    "#Then the program prints \"Done\" and the program ends.\n",
    "# flow diagram provided\n",
    "\n",
    "num = input('Enter a number: ')\n",
    "num = float(num)\n",
    "if num>0:\n",
    "    print('num greater than zero')\n",
    "if num<0:\n",
    "    print('num less than zero')\n",
    "print('Done')\n"
   ]
  }
 ],
 "metadata": {
  "language_info": {
   "name": "python"
  },
  "orig_nbformat": 4
 },
 "nbformat": 4,
 "nbformat_minor": 2
}
